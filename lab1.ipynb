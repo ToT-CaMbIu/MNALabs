{
 "cells": [
  {
   "cell_type": "code",
   "execution_count": 62,
   "metadata": {},
   "outputs": [],
   "source": [
    "import numpy as np\n",
    "import sympy as sp\n",
    "import mpmath as mp\n",
    "import math as mt\n",
    "import time \n",
    "from matplotlib import pyplot as plt"
   ]
  },
  {
   "cell_type": "code",
   "execution_count": 105,
   "metadata": {},
   "outputs": [],
   "source": [
    "def getDots(solution : list, xs : list) -> list:\n",
    "    fun = lambda i, x : (x ** i) * (1 - x ** 2)\n",
    "    ans = []\n",
    "    mx = 0\n",
    "    for i in xs:\n",
    "        sm = 0\n",
    "        for j in range(len(solution)):\n",
    "            sm += (solution[j] * fun(j,i))\n",
    "        ans.append([i,sm])\n",
    "        mx = max(sm,mx)\n",
    "    return (ans,mx)\n",
    "\n",
    "def pointsGenerator(a : int,b : int, counter : int) -> list:\n",
    "    step = (b - a) / counter\n",
    "    points = [a] * counter\n",
    "    for i in range(1,counter):\n",
    "        points[i] = points[i - 1] + step\n",
    "    points.append(b)\n",
    "    return points\n",
    "\n",
    "def collocation_method(n : int, values : list, func1 = 1, func2 = 1):\n",
    "    x = sp.Symbol('x')\n",
    "    i = sp.Symbol('i')\n",
    "    tmp = x ** i * (1 - x ** 2)\n",
    "    exp = sp.lambdify((x,i), func1 * sp.diff(tmp,x,x) + (1 + func2 * x ** 2) * tmp )\n",
    "    matrix = np.zeros(shape = (n,n))\n",
    "    b = [-1] * n\n",
    "    for i in range(n):\n",
    "        for j in range(n):\n",
    "            matrix[i][j] = exp(values[i],j)\n",
    "    return np.linalg.solve(matrix,b)\n",
    "\n",
    "def galerkin_method(n : int, func1 = 1, func2 = 1):\n",
    "    x = sp.Symbol('x')\n",
    "    i1 = sp.Symbol('i1')\n",
    "    i2 = sp.Symbol('i2')\n",
    "    i3 = sp.Symbol('i3')\n",
    "    tmp = x ** i1 * (1 - x ** 2)\n",
    "    base = x ** i2 * (1 - x ** 2)\n",
    "    cur = x ** i3 * (1 - x ** 2)\n",
    "    tmp_exp = func1 * sp.diff(tmp,x,x) + (1 + func2 * x ** 2) * tmp\n",
    "    aexp = sp.lambdify((x,i1,i2), tmp_exp * base)\n",
    "    bexp = sp.lambdify((x,i3), cur * -1)\n",
    "    points = np.linspace(-1,1,70)\n",
    "    matrix = np.zeros(shape = (n,n))\n",
    "    b = [0] * n\n",
    "    for i in range(n):\n",
    "        for j in range(n):\n",
    "            matrix[i][j] = np.trapz(np.array([aexp(t,j,i) for t in points]))\n",
    "        b[i] = np.trapz(np.array([bexp(t,i) for t in points]))\n",
    "    return np.linalg.solve(matrix,b)\n",
    "\n",
    "def minSquares(n : int, a : float, b : float, func1 = 1, func2 = 1):\n",
    "    system = []\n",
    "    clist = [sp.Symbol('c' + str(i)) for i in range(n)]\n",
    "    x = sp.Symbol('x')\n",
    "    tmp = [clist[i] * (x ** i) * (1 - x ** 2) for i in range(n)]\n",
    "    y1 = tmp[0]\n",
    "    for i in range(1,n):\n",
    "        y1 += tmp[i]\n",
    "    y2 = y1.diff(x)\n",
    "    eq = func1 * y2.diff(x) + (1 + func2 * x ** 2) * y1 + 1\n",
    "    S = 0\n",
    "    points = pointsGenerator(a,b,n+1)\n",
    "    tmp = sp.lambdify(sp.Symbol('x'), eq, \"sympy\")\n",
    "    for i in range(n + 1):\n",
    "        S += tmp(points[i]) ** 2\n",
    "    R = []\n",
    "    for i in range(n):\n",
    "        cur = sp.Poly(S.diff(sp.Symbol('c' + str(i)))).coeffs()\n",
    "        R.append(-(cur[-1]))\n",
    "        cur.pop(-1)\n",
    "        system.append(cur)\n",
    "    R = np.array(R,dtype='float')\n",
    "    L = np.array(system,dtype='float')\n",
    "    solution = np.linalg.solve(L,R)\n",
    "    dots,mx = getDots(solution,points)\n",
    "    print(mx)\n",
    "    return dots\n",
    "    \n",
    "def draw(res, counter : int, a : int, b : int):\n",
    "    points = np.linspace(a,b,counter)\n",
    "    dots, mx = getDots(res,points)\n",
    "    print(mx)\n",
    "    p = np.array(dots)\n",
    "    x,y = p.T\n",
    "    plt.plot(x,y)\n",
    "    plt.show()\n",
    "    \n",
    "def draw2(dots):\n",
    "    p = np.array(dots)\n",
    "    x,y = p.T\n",
    "    plt.plot(x,y)\n",
    "    plt.show()"
   ]
  },
  {
   "cell_type": "code",
   "execution_count": 106,
   "metadata": {},
   "outputs": [
    {
     "name": "stdout",
     "output_type": "stream",
     "text": [
      "0.855431804580721\n"
     ]
    },
    {
     "data": {
      "image/png": "[encoded data removed]",
      "text/plain": [
       "<Figure size 432x288 with 1 Axes>"
      ]
     },
     "metadata": {
      "needs_background": "light"
     },
     "output_type": "display_data"
    },
    {
     "name": "stdout",
     "output_type": "stream",
     "text": [
      "0.22654962539672852\n"
     ]
    }
   ],
   "source": [
    "st = time.time()\n",
    "draw(collocation_method(100,pointsGenerator(-1,1, 100), np.sin(8), np.cos(8)), 100, -1, 1)\n",
    "end = time.time()\n",
    "print(end - st)"
   ]
  },
  {
   "cell_type": "code",
   "execution_count": 107,
   "metadata": {},
   "outputs": [
    {
     "name": "stdout",
     "output_type": "stream",
     "text": [
      "0.8552995591822254\n"
     ]
    },
    {
     "data": {
      "image/png": "[encoded data removed]",
      "text/plain": [
       "<Figure size 432x288 with 1 Axes>"
      ]
     },
     "metadata": {
      "needs_background": "light"
     },
     "output_type": "display_data"
    },
    {
     "name": "stdout",
     "output_type": "stream",
     "text": [
      "3.90303635597229\n"
     ]
    }
   ],
   "source": [
    "st = time.time()\n",
    "draw(galerkin_method(100, np.sin(8), np.cos(8)),100,-1,1)\n",
    "end = time.time()\n",
    "print(end - st)"
   ]
  },
  {
   "cell_type": "code",
   "execution_count": 115,
   "metadata": {},
   "outputs": [
    {
     "name": "stdout",
     "output_type": "stream",
     "text": [
      "0.8534015904800549\n"
     ]
    },
    {
     "data": {
      "image/png": "[encoded data removed]",
      "text/plain": [
       "<Figure size 432x288 with 1 Axes>"
      ]
     },
     "metadata": {
      "needs_background": "light"
     },
     "output_type": "display_data"
    },
    {
     "name": "stdout",
     "output_type": "stream",
     "text": [
      "6.781515121459961\n"
     ]
    }
   ],
   "source": [
    "st = time.time()\n",
    "draw2(minSquares(20,-1,1,np.sin(8), np.cos(8)))\n",
    "end = time.time()\n",
    "print(end - st)"
   ]
  },
  {
   "cell_type": "code",
   "execution_count": null,
   "metadata": {},
   "outputs": [],
   "source": []
  }
 ],
 "metadata": {
  "kernelspec": {
   "display_name": "Python 3",
   "language": "python",
   "name": "python3"
  },
  "language_info": {
   "codemirror_mode": {
    "name": "ipython",
    "version": 3
   },
   "file_extension": ".py",
   "mimetype": "text/x-python",
   "name": "python",
   "nbconvert_exporter": "python",
   "pygments_lexer": "ipython3",
   "version": "3.7.3"
  }
 },
 "nbformat": 4,
 "nbformat_minor": 2
}
